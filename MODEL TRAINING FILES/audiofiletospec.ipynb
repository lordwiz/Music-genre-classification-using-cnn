{
 "cells": [
  {
   "cell_type": "code",
   "execution_count": 27,
   "id": "0bcd335f-197d-4cfc-ab5b-6dd4d6c702be",
   "metadata": {
    "tags": []
   },
   "outputs": [],
   "source": [
    "import os\n",
    "import librosa\n",
    "import librosa.display\n",
    "import matplotlib.pyplot as plt\n",
    "import numpy as np\n",
    "from sklearn.preprocessing import MinMaxScaler\n",
    "\n",
    "def create_spectrogram(audio_path, output_folder):\n",
    "    # Load audio file\n",
    "    y, sr = librosa.load(audio_path)\n",
    "\n",
    "    # Calculate the spectrogram\n",
    "    spectrogram = np.abs(librosa.stft(y))\n",
    "    spectrogram = librosa.amplitude_to_db(spectrogram, ref=np.max)  # Convert to dB scale\n",
    "    spectrogram = np.expand_dims(spectrogram, axis=-1)  # Add a channel dimension\n",
    "    spectrogram = np.expand_dims(spectrogram, axis=0)  # Add a batch dimension\n",
    "\n",
    "    # Scale the spectrogram\n",
    "    scaler = MinMaxScaler(feature_range=(0, 1))\n",
    "    spectrogram_scaled = scaler.fit_transform(spectrogram[0, :, :, 0])\n",
    "\n",
    "    # Plot the spectrogram\n",
    "    plt.figure(figsize=(10, 4))\n",
    "    librosa.display.specshow(spectrogram[0, :, :, 0], sr=sr, x_axis='time', y_axis='log')\n",
    "    plt.colorbar(format='%+2.0f dB')\n",
    "\n",
    "    # Save the spectrogram as an image\n",
    "    output_path = os.path.join(output_folder, os.path.basename(audio_path)[:-4] + \"_spectrogram.png\")\n",
    "    plt.savefig(output_path, bbox_inches='tight')\n",
    "    plt.close()\n",
    "\n",
    "# Example usage\n",
    "source_folder = \"genres_original/rock\"\n",
    "target_folder = \"data-1/rock\"\n",
    "\n",
    "# Ensure the target folder exists\n",
    "os.makedirs(target_folder, exist_ok=True)\n",
    "\n",
    "# Iterate through audio files in the source folder\n",
    "for filename in os.listdir(source_folder):\n",
    "    if filename.endswith(\".wav\") or filename.endswith(\".mp3\"):  # Adjust file extensions as needed\n",
    "        audio_path = os.path.join(source_folder, filename)\n",
    "        create_spectrogram(audio_path, target_folder)\n"
   ]
  },
  {
   "cell_type": "code",
   "execution_count": null,
   "id": "7871afac-b4cd-49bd-93af-85bebb23a5c3",
   "metadata": {},
   "outputs": [],
   "source": []
  }
 ],
 "metadata": {
  "kernelspec": {
   "display_name": "Python 3 (ipykernel)",
   "language": "python",
   "name": "python3"
  },
  "language_info": {
   "codemirror_mode": {
    "name": "ipython",
    "version": 3
   },
   "file_extension": ".py",
   "mimetype": "text/x-python",
   "name": "python",
   "nbconvert_exporter": "python",
   "pygments_lexer": "ipython3",
   "version": "3.11.5"
  }
 },
 "nbformat": 4,
 "nbformat_minor": 5
}
